{
 "cells": [
  {
   "cell_type": "code",
   "execution_count": 16,
   "metadata": {},
   "outputs": [],
   "source": [
    "import spotipy\n",
    "from spotipy.oauth2 import SpotifyClientCredentials\n",
    "cid = '189a515b62284215a5b7257e43b3dd4b'\n",
    "secret = 'e83bb00e2c9048b3805a71c284d061ce'\n",
    "client_credentials_manager = SpotifyClientCredentials(client_id=cid, client_secret=secret)\n",
    "sp = spotipy.Spotify(client_credentials_manager\n",
    "=\n",
    "client_credentials_manager)\n"
   ]
  },
  {
   "cell_type": "code",
   "execution_count": 17,
   "metadata": {},
   "outputs": [],
   "source": [
    "artist_name = []\n",
    "track_name = []\n",
    "popularity = []\n",
    "track_id = []\n",
    "for i in range(0,2000,50):\n",
    "    track_results = sp.search(q='year:2020', type='track', limit=50,offset=i)\n",
    "    for i, t in enumerate(track_results['tracks']['items']):\n",
    "        artist_name.append(t['artists'][0]['name'])\n",
    "        track_name.append(t['name'])\n",
    "        track_id.append(t['id'])\n",
    "        popularity.append(t['popularity'])"
   ]
  },
  {
   "cell_type": "code",
   "execution_count": 18,
   "metadata": {},
   "outputs": [
    {
     "name": "stdout",
     "output_type": "stream",
     "text": [
      "(2000, 4)\n",
      "       artist_name                                        track_name  \\\n",
      "0     Harry Styles                                  Watermelon Sugar   \n",
      "1      Roddy Ricch                                           The Box   \n",
      "2         Surfaces                                       Sunday Best   \n",
      "3      Post Malone                                           Circles   \n",
      "4       Juice WRLD                                           Robbery   \n",
      "...            ...                                               ...   \n",
      "1995  Shiro Sagisu  A Cruel Angel's Thesis (Director's Edit Version)   \n",
      "1996          SwuM                                            With U   \n",
      "1997     Sada Baby                         Bloxk Party (feat. Drego)   \n",
      "1998   Cody Carnes                                      Nothing Else   \n",
      "1999          Tyga              Haute (feat. J Balvin & Chris Brown)   \n",
      "\n",
      "                    track_id  popularity  \n",
      "0     6UelLqGlWMcVH1E5c4H7lY          96  \n",
      "1     0nbXyq5TXYPCO7pr3N8S4I          92  \n",
      "2     1Cv1YLb4q0RzL6pybtaMLo          91  \n",
      "3     21jGcNKet2qwijlDFuPiPb          91  \n",
      "4     6Hj9jySrnFppAI0sEMCZpJ          88  \n",
      "...                      ...         ...  \n",
      "1995  3x4378ztiLvFmm2nuzEI0C          61  \n",
      "1996  0rNpm25xLsckCS9JPAgpwP          63  \n",
      "1997  2y6T22z0VqKK1R8UwI0MvJ          58  \n",
      "1998  24gP93dLFid1OYfM1mKmyp          60  \n",
      "1999  1rYC34UUszS0QzzECNRhYb          67  \n",
      "\n",
      "[2000 rows x 4 columns]\n"
     ]
    }
   ],
   "source": [
    "import pandas as pd\n",
    "track_dataframe = pd.DataFrame({'artist_name' : artist_name, 'track_name' : track_name, 'track_id' : track_id, 'popularity' : popularity})\n",
    "print(track_dataframe.shape)\n",
    "track_dataframe.head()\n",
    "\n",
    "print(track_dataframe)"
   ]
  },
  {
   "cell_type": "code",
   "execution_count": 1,
   "metadata": {},
   "outputs": [],
   "source": [
    "import ast\n",
    "from typing import List\n",
    "from os import listdir\n",
    "def get_streamings(path: str = 'MyData') -> List[dict]:\n",
    "    \n",
    "    files = ['MyData/' + x for x in listdir(path)\n",
    "             if x.split('.')[0][:-1] == 'StreamingHistory']\n",
    "    \n",
    "    all_streamings = []\n",
    "    \n",
    "    for file in files: \n",
    "        with open(file, 'r', encoding='UTF-8') as f:\n",
    "            new_streamings = ast.literal_eval(f.read())\n",
    "            all_streamings += [streaming for streaming \n",
    "                               in new_streamings]\n",
    "    return all_streamings"
   ]
  },
  {
   "cell_type": "code",
   "execution_count": null,
   "metadata": {},
   "outputs": [],
   "source": []
  }
 ],
 "metadata": {
  "kernelspec": {
   "display_name": "Python 3",
   "language": "python",
   "name": "python3"
  },
  "language_info": {
   "codemirror_mode": {
    "name": "ipython",
    "version": 3
   },
   "file_extension": ".py",
   "mimetype": "text/x-python",
   "name": "python",
   "nbconvert_exporter": "python",
   "pygments_lexer": "ipython3",
   "version": "3.8.3"
  }
 },
 "nbformat": 4,
 "nbformat_minor": 4
}
